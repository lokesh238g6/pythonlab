{
  "nbformat": 4,
  "nbformat_minor": 0,
  "metadata": {
    "colab": {
      "provenance": [],
      "authorship_tag": "ABX9TyO1gqs0Ee5h6EfBzosPZcGu",
      "include_colab_link": true
    },
    "kernelspec": {
      "name": "python3",
      "display_name": "Python 3"
    },
    "language_info": {
      "name": "python"
    }
  },
  "cells": [
    {
      "cell_type": "markdown",
      "metadata": {
        "id": "view-in-github",
        "colab_type": "text"
      },
      "source": [
        "<a href=\"https://colab.research.google.com/github/lokesh238g6/pythonlab/blob/main/week--7.ipynb\" target=\"_parent\"><img src=\"https://colab.research.google.com/assets/colab-badge.svg\" alt=\"Open In Colab\"/></a>"
      ]
    },
    {
      "cell_type": "code",
      "source": [
        "def equal_no(a,b):\n",
        "  if (a==b):\n",
        "    print(\"equal\")\n",
        "  else:\n",
        "    print(\"not equal\")\n",
        "equal_no(10,20)"
      ],
      "metadata": {
        "colab": {
          "base_uri": "https://localhost:8080/"
        },
        "id": "8P_tdmH2ikkR",
        "outputId": "35d80565-3d53-416e-f592-06d97cd547a5"
      },
      "execution_count": 5,
      "outputs": [
        {
          "output_type": "stream",
          "name": "stdout",
          "text": [
            "not equal\n"
          ]
        }
      ]
    },
    {
      "cell_type": "code",
      "source": [
        "def swap(a,b):\n",
        "  temp=0\n",
        "  temp=a\n",
        "  a=b\n",
        "  b=temp\n",
        "  print(a,b)\n",
        "a=int(input(\"enter a value\"))\n",
        "b=int(input(\"enter b value\"))\n",
        "swap(a,b)"
      ],
      "metadata": {
        "id": "rOEGonpjjDvo",
        "outputId": "168de103-c691-4064-de47-79b545865acf",
        "colab": {
          "base_uri": "https://localhost:8080/"
        }
      },
      "execution_count": 6,
      "outputs": [
        {
          "output_type": "stream",
          "name": "stdout",
          "text": [
            "enter a value4\n",
            "enter b value5\n",
            "5 4\n"
          ]
        }
      ]
    },
    {
      "cell_type": "code",
      "source": [
        "def name():\n",
        "  n=input(\"enter name\")\n",
        "  return n\n",
        "n=name()\n",
        "print(\"name of the person is\",n)\n",
        "\n",
        "\n"
      ],
      "metadata": {
        "id": "mZybPfLmkBbw",
        "outputId": "81abd3bc-8058-4399-a3f0-3051b5e14ef1",
        "colab": {
          "base_uri": "https://localhost:8080/"
        }
      },
      "execution_count": 23,
      "outputs": [
        {
          "output_type": "stream",
          "name": "stdout",
          "text": [
            "enter namelokesh\n",
            "name of the person is lokesh\n"
          ]
        }
      ]
    },
    {
      "cell_type": "code",
      "source": [
        "\"\"\"4.\tWrite a program to return the average of its arguments\"\"\"\n",
        "def average(a,b,c):\n",
        "  avg=(a+b+c)/3\n",
        "  return avg\n",
        "\n",
        "a=int(input(\"enter a value\"))\n",
        "b=int(input(\"enter b value\"))\n",
        "c=int(input(\"enter c value\"))\n",
        "avg=average(a,b,c)\n",
        "print(\"average of three numbers is\",avg)"
      ],
      "metadata": {
        "id": "5U12qNnpmRdh",
        "outputId": "4a904aa6-11fc-489b-bdf1-27679fbdbd8c",
        "colab": {
          "base_uri": "https://localhost:8080/"
        }
      },
      "execution_count": 24,
      "outputs": [
        {
          "output_type": "stream",
          "name": "stdout",
          "text": [
            "enter a value10\n",
            "enter b value10\n",
            "enter c value10\n",
            "average of three numbers is 10.0\n"
          ]
        }
      ]
    },
    {
      "cell_type": "code",
      "source": [
        "def check(a):\n",
        "  if (a%2==0):\n",
        "    return \"even\"\n",
        "  else:\n",
        "    return \"odd\"\n",
        "a=int(input(\"enter a value\"))\n",
        "a=check(a)\n",
        "print(a)\n",
        "\n"
      ],
      "metadata": {
        "id": "SNlv4nDNnlKY",
        "outputId": "3ce71092-1320-41be-8aa4-085df0359462",
        "colab": {
          "base_uri": "https://localhost:8080/"
        }
      },
      "execution_count": 31,
      "outputs": [
        {
          "output_type": "stream",
          "name": "stdout",
          "text": [
            "enter a value45\n",
            "odd\n"
          ]
        }
      ]
    },
    {
      "cell_type": "code",
      "source": [
        "\"\"\"7.\tWrite program to calculate the Fibonacci series by using function.\"\"\"\n",
        "def fibonacci():\n",
        "  n=int(input(\"enter n value\"))\n",
        "  a=0\n",
        "  b=1\n",
        "  print(a)\n",
        "  print(b)\n",
        "  for i in range(1,n-1):\n",
        "    c=a+b\n",
        "    print(c)\n",
        "    a=b\n",
        "    b=c\n",
        "fibonacci()\n",
        "\n",
        "\n"
      ],
      "metadata": {
        "id": "-IpK2SSBqPdR",
        "outputId": "ed81754b-eecf-4821-b5c8-167cf0c2be79",
        "colab": {
          "base_uri": "https://localhost:8080/"
        }
      },
      "execution_count": 39,
      "outputs": [
        {
          "output_type": "stream",
          "name": "stdout",
          "text": [
            "enter n value5\n",
            "0\n",
            "1\n",
            "1\n",
            "2\n",
            "3\n"
          ]
        }
      ]
    },
    {
      "cell_type": "code",
      "source": [
        "\"\"\"8.\tWrite program to calculate area of a circle using functions\"\"\"\n",
        "def area(r):\n",
        "  area=3.14*r*r\n",
        "  return area\n",
        "r=int(input(\"enter radius\"))\n",
        "b=area(r)\n",
        "print(\"area of circle is\",b)"
      ],
      "metadata": {
        "id": "RIRvdh4dsgkp",
        "outputId": "4447677a-74f0-4e8b-a6a5-3da1a91a8344",
        "colab": {
          "base_uri": "https://localhost:8080/"
        }
      },
      "execution_count": 40,
      "outputs": [
        {
          "output_type": "stream",
          "name": "stdout",
          "text": [
            "enter radius2\n",
            "area of circle is 12.56\n"
          ]
        }
      ]
    },
    {
      "cell_type": "code",
      "source": [
        "def biggest(a,b,c):\n",
        "  if (a>b and a>c):\n",
        "    return a\n",
        "  elif (b>a and b>c):\n",
        "    return b\n",
        "  else:\n",
        "    return c\n",
        "a=input(\"enter first value\")\n",
        "b=input(\"enter second value\")\n",
        "c=input(\"enter third value\")\n",
        "a=biggest(a,b,c)\n",
        "print(\"biggest number is\",a)"
      ],
      "metadata": {
        "id": "pgN8YoFotOh5",
        "outputId": "b5364738-15cf-415b-d095-c30c61f7b22b",
        "colab": {
          "base_uri": "https://localhost:8080/"
        }
      },
      "execution_count": 41,
      "outputs": [
        {
          "output_type": "stream",
          "name": "stdout",
          "text": [
            "enter first value1\n",
            "enter second value3\n",
            "enter third value2\n",
            "biggest number is 3\n"
          ]
        }
      ]
    },
    {
      "cell_type": "code",
      "source": [
        "# 10.\tWrite a function to check if a given number is prime or not.\n",
        "# 1)\tHint: A prime number is only divisible by 1 and itself. For example, 13.\n",
        "# 2)\tReturn True if the number is prime, otherwise return False.\n",
        "def prime(n):\n",
        "  if (n==1):\n",
        "    return False\n",
        "  for i in range(2,n):\n",
        "    if (n%i==0):\n",
        "      return False\n",
        "  return True\n",
        "\n",
        "n=int(input(\"enter n value\"))\n",
        "a=prime(n)\n",
        "print(a)\n"
      ],
      "metadata": {
        "id": "cILGUkIEvC1J",
        "outputId": "664a5406-2736-42e8-c4c9-c764835da3b5",
        "colab": {
          "base_uri": "https://localhost:8080/"
        }
      },
      "execution_count": 43,
      "outputs": [
        {
          "output_type": "stream",
          "name": "stdout",
          "text": [
            "enter n value2\n",
            "True\n"
          ]
        }
      ]
    }
  ]
}