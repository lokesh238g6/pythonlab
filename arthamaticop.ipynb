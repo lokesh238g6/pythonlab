{
  "nbformat": 4,
  "nbformat_minor": 0,
  "metadata": {
    "colab": {
      "provenance": [],
      "authorship_tag": "ABX9TyOquODjMh7pwfUIVBkAdj5R",
      "include_colab_link": true
    },
    "kernelspec": {
      "name": "python3",
      "display_name": "Python 3"
    },
    "language_info": {
      "name": "python"
    }
  },
  "cells": [
    {
      "cell_type": "markdown",
      "metadata": {
        "id": "view-in-github",
        "colab_type": "text"
      },
      "source": [
        "<a href=\"https://colab.research.google.com/github/lokesh238g6/pythonlab/blob/main/arthamaticop.ipynb\" target=\"_parent\"><img src=\"https://colab.research.google.com/assets/colab-badge.svg\" alt=\"Open In Colab\"/></a>"
      ]
    },
    {
      "cell_type": "code",
      "source": [
        "a=int(input(\"enter a value\"))\n",
        "b=int(input(\"enter b value\"))\n",
        "add=a+b\n",
        "sub=a-b\n",
        "mult=a*b\n",
        "div=a/b\n",
        "mod=a%b\n",
        "print(\"sum is\",add,\"sub is\",sub,\"mult is\",mult,\"div is\",div,\"module is\",mod)"
      ],
      "metadata": {
        "colab": {
          "base_uri": "https://localhost:8080/"
        },
        "id": "2ed2zuZVPQ5S",
        "outputId": "84372fa7-2515-4865-afd4-76c11430091a"
      },
      "execution_count": null,
      "outputs": [
        {
          "output_type": "stream",
          "name": "stdout",
          "text": [
            "enter a value23\n",
            "enter b value23\n",
            "sum is 46 sub is 0 mult is 529 div is 1.0 module is\n"
          ]
        }
      ]
    },
    {
      "cell_type": "code",
      "source": [
        "a=float(input(\"enter a value\"))\n",
        "b=float(input(\"enter b value\"))\n",
        "add=a+b\n",
        "sub=a-b\n",
        "mult=a*b\n",
        "div=a/b\n",
        "print(\"sum is\",add,\"sub is\",sub,\"mult is\",mult,\"div is\",div)"
      ],
      "metadata": {
        "colab": {
          "base_uri": "https://localhost:8080/"
        },
        "id": "d9xaQXL-QalD",
        "outputId": "39e704c7-ba86-4e38-dc7d-1c7a4f70e3fe"
      },
      "execution_count": null,
      "outputs": [
        {
          "output_type": "stream",
          "name": "stdout",
          "text": [
            "enter a value2\n",
            "enter b value23\n",
            "sum is 25.0 sub is -21.0 mult is 46.0 div is 0.08695652173913043\n"
          ]
        }
      ]
    },
    {
      "cell_type": "code",
      "source": [
        "a=input(\" a value =\")\n",
        "b=input(\" b value =\")\n",
        "temp=a\n",
        "a=b\n",
        "b=temp\n",
        "print(\"after swapping a=\",a,\"after swapping b=\",b)"
      ],
      "metadata": {
        "colab": {
          "base_uri": "https://localhost:8080/"
        },
        "id": "cXDzbfKvRSTj",
        "outputId": "0c6bbf0a-862a-4a26-8baa-4263835e2985"
      },
      "execution_count": null,
      "outputs": [
        {
          "output_type": "stream",
          "name": "stdout",
          "text": [
            " a value =23\n",
            " b value =34\n",
            "after swapping a= 34 after swapping b= 23\n"
          ]
        }
      ]
    }
  ]
}