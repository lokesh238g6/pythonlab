{
  "nbformat": 4,
  "nbformat_minor": 0,
  "metadata": {
    "colab": {
      "provenance": [],
      "toc_visible": true,
      "authorship_tag": "ABX9TyN6kZ2C2gMOU5vXBal8BYpe",
      "include_colab_link": true
    },
    "kernelspec": {
      "name": "python3",
      "display_name": "Python 3"
    },
    "language_info": {
      "name": "python"
    }
  },
  "cells": [
    {
      "cell_type": "markdown",
      "metadata": {
        "id": "view-in-github",
        "colab_type": "text"
      },
      "source": [
        "<a href=\"https://colab.research.google.com/github/lokesh238g6/pythonlab/blob/main/Untitled1.ipynb\" target=\"_parent\"><img src=\"https://colab.research.google.com/assets/colab-badge.svg\" alt=\"Open In Colab\"/></a>"
      ]
    },
    {
      "cell_type": "code",
      "execution_count": 9,
      "metadata": {
        "colab": {
          "base_uri": "https://localhost:8080/"
        },
        "id": "qF0dHKq6O-6T",
        "outputId": "c4889f2a-1d6d-4e9a-b7b3-12b9f5dec99e"
      },
      "outputs": [
        {
          "output_type": "stream",
          "name": "stdout",
          "text": [
            "enter student namelokesh\n",
            "enter roll no45\n",
            "enter marks34\n",
            "enter marks47\n",
            "enter marks87\n",
            "enter marks78\n",
            "enter marks67\n",
            "student name islokesh\n",
            "roll no is 45\n",
            "subjct 1 marks is 34\n",
            "subjct 2 marks is 47\n",
            "subjct 3 marks is 87\n",
            "subjct 4 marks is 78\n",
            "subjct 5 marks is 67\n",
            "total is 313\n",
            "average is 62.6\n"
          ]
        }
      ],
      "source": [
        "name=input(\"enter student name:\")\n",
        "roll=int(input(\"enter roll no:\"))\n",
        "m1=int(input(\"enter marks:\"))\n",
        "m2=int(input(\"enter marks;\"))\n",
        "m3=int(input(\"enter marks;\"))\n",
        "m4=int(input(\"enter marks;\"))\n",
        "m5=int(input(\"enter marks:\"))\n",
        "total=int(m1)+int(m2)+int(m3)+int(m4)+int(m5);\n",
        "avg=total/5;\n",
        "print(\"student name is\"+name)\n",
        "print(\"roll no is\",roll)\n",
        "print(\"subjct 1 marks is\",m1)\n",
        "print(\"subjct 2 marks is\",m2)\n",
        "print(\"subjct 3 marks is\",m3)\n",
        "print(\"subjct 4 marks is\",m4)\n",
        "print(\"subjct 5 marks is\",m5)\n",
        "print(\"total is\",total)\n",
        "print(\"average is\",avg)\n",
        "\n",
        "\n",
        "\n"
      ]
    },
    {
      "cell_type": "code",
      "source": [
        "\"\"\"a) Demonstrate about Basics of Python Programming.45\n",
        "\n",
        "b) Demonstrate about fundamental Data types in Python Programming. (i.e., int, float, complex, bool and string types)\n",
        "c) Demonstrate the working of following functions in Python.\n",
        " i) type( ) iii) range( )\n",
        "d) Write a Python program to demonstrate various type conversion functions.\"\"\"\n",
        "#a)\n",
        "print(\"welcome to python programming\")\n",
        "print(\"hello python\")\n",
        "a=int(input(\"enter a value\"))\n",
        "b=int(input(\"enter b value\"))\n",
        "add=a+b\n",
        "sub=a-b\n",
        "mult=a*b\n",
        "div=a/b\n",
        "mod=a%b\n",
        "print(\"sum is\",add,\"\\nsub is\",sub,\"\\nmult is\",mult,\"\\ndiv is\",div,\"\\nmodule is\",mod)\n",
        "\n",
        "\n"
      ],
      "metadata": {
        "colab": {
          "base_uri": "https://localhost:8080/"
        },
        "id": "IasyHq3eVFby",
        "outputId": "6b9ba80b-4a7d-4b25-f754-d52d32cd5758"
      },
      "execution_count": 17,
      "outputs": [
        {
          "output_type": "stream",
          "name": "stdout",
          "text": [
            "welcome to python programming\n",
            "hello python\n",
            "enter a value34\n",
            "enter b value34\n",
            "sum is 68 \n",
            "sub is 0 \n",
            "mult is 1156 \n",
            "div is 1.0 \n",
            "module is 0\n"
          ]
        }
      ]
    },
    {
      "cell_type": "code",
      "source": [
        "#b\n",
        "i=int(input(\"enter interger value\"))\n",
        "print(\"interger is\",i)\n",
        "f=float(input(\"enter float value\"))\n",
        "print(\"folating value is \",f)\n",
        "#b=(input(\"enter boolean values x and y\"))\n",
        "a=5+6j;\n",
        "print(a.real)\n",
        "print(a.imag)\n",
        "b=True;\n",
        "c=False;\n",
        "print(b)\n",
        "print(c)\n",
        "s=str(input(\"enter a string\"))\n",
        "print(\"string is \",s)\n"
      ],
      "metadata": {
        "colab": {
          "base_uri": "https://localhost:8080/"
        },
        "id": "DuqMgH_TYyQi",
        "outputId": "95702b24-4b82-4a96-b0c5-e8bf924fa7a7"
      },
      "execution_count": 23,
      "outputs": [
        {
          "output_type": "stream",
          "name": "stdout",
          "text": [
            "enter interger value3\n",
            "interger is 3\n",
            "enter float value4\n",
            "folating value is  4.0\n",
            "5.0\n",
            "6.0\n",
            "True\n",
            "False\n",
            "enter a stringlokesh\n",
            "string is  lokesh\n"
          ]
        }
      ]
    },
    {
      "cell_type": "code",
      "source": [
        "#c)\n",
        "\n",
        "a=20;\n",
        "print(type(a))\n",
        "print(tuple(range(5)))\n",
        "#d\n",
        "print(type(float(a)))\n",
        "print(float(a))"
      ],
      "metadata": {
        "colab": {
          "base_uri": "https://localhost:8080/"
        },
        "id": "WXhn7qVwdFii",
        "outputId": "57136f65-2964-4bee-e126-ab98ac58e79e"
      },
      "execution_count": 28,
      "outputs": [
        {
          "output_type": "stream",
          "name": "stdout",
          "text": [
            "<class 'int'>\n",
            "(0, 1, 2, 3, 4)\n",
            "<class 'float'>\n",
            "20.0\n"
          ]
        }
      ]
    },
    {
      "cell_type": "code",
      "source": [],
      "metadata": {
        "id": "i_UQcvcgdu2q"
      },
      "execution_count": null,
      "outputs": []
    }
  ]
}
