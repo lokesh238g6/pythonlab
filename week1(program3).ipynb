{
  "nbformat": 4,
  "nbformat_minor": 0,
  "metadata": {
    "colab": {
      "provenance": [],
      "authorship_tag": "ABX9TyN+Z6zAiFAubzuFua8ncyCQ",
      "include_colab_link": true
    },
    "kernelspec": {
      "name": "python3",
      "display_name": "Python 3"
    },
    "language_info": {
      "name": "python"
    }
  },
  "cells": [
    {
      "cell_type": "markdown",
      "metadata": {
        "id": "view-in-github",
        "colab_type": "text"
      },
      "source": [
        "<a href=\"https://colab.research.google.com/github/lokesh238g6/pythonlab/blob/main/week1(program3).ipynb\" target=\"_parent\"><img src=\"https://colab.research.google.com/assets/colab-badge.svg\" alt=\"Open In Colab\"/></a>"
      ]
    },
    {
      "cell_type": "code",
      "execution_count": 1,
      "metadata": {
        "colab": {
          "base_uri": "https://localhost:8080/"
        },
        "id": "vZUlkBQ-lsis",
        "outputId": "6f45e99b-4e74-4277-e84f-c39b59e28638"
      },
      "outputs": [
        {
          "output_type": "stream",
          "name": "stdout",
          "text": [
            "enter a value2\n",
            "enter b value4\n",
            "enter c value5\n",
            "enter d value6\n",
            "distance is 3.605551275463989\n"
          ]
        }
      ],
      "source": [
        "\"\"\"Program3: a program to compute distance between two points taking input from the user Write a program add.py that takes 2 numbers as command line arguments and prints its sum.\n",
        "Solution:- Distance can be calculated using the two points (x1, y1) and (x2, y2), the distance d between these points is given by the formula: √(x2-x1)2+(y2-y1)2\n",
        "for e.g : let x1 , y1=10,9 and x2 , y2=4,1 then (x2-x1) 2=(10-4)2 = 62 = 36 and (y2-y1) 2= (9- 1)2 = 82 = 64 now 64 + 36 =100 and 100 is square root of 10 sp distance between (10,9) and (4,1) is 10.\"\"\"\n",
        "a=int(input(\"enter a value\"))\n",
        "b=int(input(\"enter b value\"))\n",
        "c=int(input(\"enter c value\"))\n",
        "d=int(input(\"enter d value\"))\n",
        "distance=((c-a)**2+(d-b)**2)**0.5\n",
        "print(\"distance is\",distance)"
      ]
    }
  ]
}