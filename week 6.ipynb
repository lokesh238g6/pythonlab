{
  "nbformat": 4,
  "nbformat_minor": 0,
  "metadata": {
    "colab": {
      "provenance": [],
      "authorship_tag": "ABX9TyNTwdoYzzHeyVvWTQtSyH7J",
      "include_colab_link": true
    },
    "kernelspec": {
      "name": "python3",
      "display_name": "Python 3"
    },
    "language_info": {
      "name": "python"
    }
  },
  "cells": [
    {
      "cell_type": "markdown",
      "metadata": {
        "id": "view-in-github",
        "colab_type": "text"
      },
      "source": [
        "<a href=\"https://colab.research.google.com/github/lokesh238g6/pythonlab/blob/main/week%206.ipynb\" target=\"_parent\"><img src=\"https://colab.research.google.com/assets/colab-badge.svg\" alt=\"Open In Colab\"/></a>"
      ]
    },
    {
      "cell_type": "code",
      "execution_count": null,
      "metadata": {
        "colab": {
          "base_uri": "https://localhost:8080/"
        },
        "id": "hbYQNiDVVERn",
        "outputId": "34fb2532-0912-4bba-a46b-7370889ade48"
      },
      "outputs": [
        {
          "output_type": "stream",
          "name": "stdout",
          "text": [
            "enter string lokesh\n",
            "6\n"
          ]
        }
      ],
      "source": [
        "\"\"\"o\tWrite a Python program to calculate the length of a string.\"\"\"\n",
        "a=input(\"enter string \")\n",
        "print(len(a))"
      ]
    },
    {
      "cell_type": "code",
      "source": [
        "\"\"\"o\tWrite a Python program to get a single string from two given strings, separated by a space and swap the first two characters of each string.\n",
        "Sample String : 'abc', 'xyz'\n",
        "Expected Output: 'xycabz'\"\"\"\n",
        "a=input(\"enter string \")\n",
        "b=input(\"enter string \")\n",
        "c=b[:2]+a[2:]+a[:2]+b[2:]\n",
        "print(c)\n",
        "\n"
      ],
      "metadata": {
        "colab": {
          "base_uri": "https://localhost:8080/"
        },
        "id": "GQC7-v2EWMSn",
        "outputId": "f9fdb852-efe9-46dd-cb71-b180e99988e5"
      },
      "execution_count": null,
      "outputs": [
        {
          "output_type": "stream",
          "name": "stdout",
          "text": [
            "enter string abc\n",
            "enter string xyz\n",
            "xycabz\n"
          ]
        }
      ]
    },
    {
      "cell_type": "code",
      "source": [
        "\"\"\"o\tExercise 1: Write a Python program that encrypts a message by adding a key value to every character.\n",
        "Hint:if key =3,then add 3 to every character\n",
        "Sample Input :Helloworld\n",
        "ExpectedOutput:k h o o r Z r u o g\"\"\"\n",
        "a=input(\"enter string \")\n",
        "c=int(input(\"enter key element\"))\n",
        "b=\"\"\n",
        "for i in a:\n",
        "    b+=chr(ord(i)+c)\n",
        "print(b)\n"
      ],
      "metadata": {
        "colab": {
          "base_uri": "https://localhost:8080/"
        },
        "id": "sE-BQcz2aFQR",
        "outputId": "56b8b097-5671-4aa9-c9ce-af0c2479068e"
      },
      "execution_count": null,
      "outputs": [
        {
          "output_type": "stream",
          "name": "stdout",
          "text": [
            "enter string Helloworld\n",
            "enter key element3\n",
            "Khoorzruog\n"
          ]
        }
      ]
    },
    {
      "cell_type": "code",
      "source": [
        "\"\"\"o\tExercise 2: Write a Python program that uses split() to split a multiline string.\"\"\"\n",
        "a= \"\"\"This is the first line.\n",
        "This is the second line.\n",
        "And this is the third line.\"\"\"\n",
        "lines = a.split('\\n')\n",
        "print(\"List of lines:\")\n",
        "print(lines)\n"
      ],
      "metadata": {
        "colab": {
          "base_uri": "https://localhost:8080/"
        },
        "id": "jJwpe9vHbpDA",
        "outputId": "793423be-e026-42a0-f4bd-b9e540374d15"
      },
      "execution_count": null,
      "outputs": [
        {
          "output_type": "stream",
          "name": "stdout",
          "text": [
            "List of lines:\n",
            "['This is the first line.', 'This is the second line.', 'And this is the third line.']\n"
          ]
        }
      ]
    },
    {
      "cell_type": "code",
      "source": [
        "\"\"\"o\tExercise 3: Write a Python program  to generate an Abecedarian series.\n",
        "Hint: Abecedarian refers to a series or list in which the elements appear in alphabetical order.\n",
        "Sample Input: str1=”ABCDEFGH”\n",
        "\tstr2 =”ate”\n",
        "ExpectedOutput:Aate Bate Cate Date Eate Fate Gate Hate\"\"\"\n",
        "string=input(\"enter alphabets\")\n",
        "str1=input(\"enter string\")\n",
        "for i in string:\n",
        "  print(i+str1,end=\" \")\n"
      ],
      "metadata": {
        "colab": {
          "base_uri": "https://localhost:8080/"
        },
        "id": "Mr7-tb1la3H_",
        "outputId": "9f156aa8-a578-407c-efa7-e1e148d077b8"
      },
      "execution_count": null,
      "outputs": [
        {
          "output_type": "stream",
          "name": "stdout",
          "text": [
            "enter alphabetsABCDEFG\n",
            "enter stringATE\n",
            "AATE BATE CATE DATE EATE FATE GATE "
          ]
        }
      ]
    },
    {
      "cell_type": "code",
      "source": [
        "\"\"\"o\tExercise4 :Write a program that accepts a string from user and redisplays the same string after removing vowels from it.\n",
        "Sample input: The food is very tasty\n",
        "ExpectedOutput:\tThfd s vrytsty\"\"\"\n",
        "a=input(\"enter string \")\n",
        "b=\"\"\n",
        "for i in a:\n",
        "    if i not in \"aeiouAEIOU\":\n",
        "        b+=i\n",
        "print(b)"
      ],
      "metadata": {
        "colab": {
          "base_uri": "https://localhost:8080/"
        },
        "id": "jEVVbitZjs8v",
        "outputId": "a381698d-96c9-4226-82b3-f3968a0533bf"
      },
      "execution_count": null,
      "outputs": [
        {
          "output_type": "stream",
          "name": "stdout",
          "text": [
            "enter string lokesh\n",
            "lksh\n"
          ]
        }
      ]
    },
    {
      "cell_type": "code",
      "source": [
        "\"\"\"o\tExercise 5 :Write a Python program to remove a newline in Python\"\"\"\n",
        "a=\"\"\"This is the first line.\n",
        "This is the second line.\n",
        "And this is the third line.\"\"\"\n",
        "print(a.rstrip('\\n'))\n"
      ],
      "metadata": {
        "colab": {
          "base_uri": "https://localhost:8080/"
        },
        "id": "LJtmFipAlYqA",
        "outputId": "352849b4-a7b1-4d1f-b5b1-dd8a56fc5ed3"
      },
      "execution_count": null,
      "outputs": [
        {
          "output_type": "stream",
          "name": "stdout",
          "text": [
            "This is the first line.\n",
            "\n",
            "This is the second line.\n",
            "And this is the third line.\n"
          ]
        }
      ]
    },
    {
      "cell_type": "code",
      "source": [
        "\"\"\"o\tExercise 6:Write a Program that finds whether a given character is present in a string or not.in case it is present it prints the index at which it is present.Do not use built-in find functions to search a the character.\n",
        "Sample Input:Enter a string: God is Great\n",
        "Enter the character to be searched: r\n",
        "Expected Output: rfound in string at index:8\"\"\"\n",
        "string=input(\"enter string\")\n",
        "char=input(\"enter character\")\n",
        "found=False\n",
        "for i in range(len(string)):\n",
        "    if string[i]==char:\n",
        "        found=True\n",
        "        break\n",
        "if found:\n",
        "    print(f\"{char} found in string at index: {i}\")\n",
        "\n"
      ],
      "metadata": {
        "colab": {
          "base_uri": "https://localhost:8080/"
        },
        "id": "1rj0V4BQpUeY",
        "outputId": "202ce841-d37d-4fcb-a5bc-d2cbac1dcdd6"
      },
      "execution_count": null,
      "outputs": [
        {
          "output_type": "stream",
          "name": "stdout",
          "text": [
            "enter stringgod is great\n",
            "enter characterd\n",
            "d found in string at index: 2\n"
          ]
        }
      ]
    },
    {
      "cell_type": "code",
      "source": [
        "\"\"\"o\tExercise 7:Write a Python program to count repeated characters in a string.\n",
        "Sample string: 'thequickbrownfoxjumpsoverthelazydog'\n",
        "Expected output :\n",
        "o4\n",
        "e3\n",
        "u 2\n",
        "h 2\n",
        "r 2\n",
        "t 2\"\"\"\n",
        "a=input(\"enter a string\")\n",
        "b=\"\"\n",
        "for i in a:\n",
        "    if i not in b:\n",
        "        b+=i\n",
        "\n",
        "        print(f\"{i} {a.count(i)}\")\n",
        "\n",
        "\n"
      ],
      "metadata": {
        "colab": {
          "base_uri": "https://localhost:8080/"
        },
        "id": "Y-iesR2gqT7A",
        "outputId": "b6385bfd-f965-499f-8463-f3db78bc9acc"
      },
      "execution_count": null,
      "outputs": [
        {
          "output_type": "stream",
          "name": "stdout",
          "text": [
            "enter a stringthequickbrownfoxjumpsoverthelazydog\n",
            "t 2\n",
            "h 2\n",
            "e 3\n",
            "q 1\n",
            "u 2\n",
            "i 1\n",
            "c 1\n",
            "k 1\n",
            "b 1\n",
            "r 2\n",
            "o 4\n",
            "w 1\n",
            "n 1\n",
            "f 1\n",
            "x 1\n",
            "j 1\n",
            "m 1\n",
            "p 1\n",
            "s 1\n",
            "v 1\n",
            "l 1\n",
            "a 1\n",
            "z 1\n",
            "y 1\n",
            "d 1\n",
            "g 1\n"
          ]
        }
      ]
    },
    {
      "cell_type": "code",
      "source": [
        "\"\"\"o\tExercise 8 :Write a Python program to count and display vowels in text.\"\"\"\n",
        "a=input(\"enter string\")\n",
        "b=\"\"\n",
        "for i in a:\n",
        "    if i in \"aeiouAEIOU\":\n",
        "        b+=i\n",
        "print(b)\n",
        "print(len(b))\n"
      ],
      "metadata": {
        "colab": {
          "base_uri": "https://localhost:8080/"
        },
        "id": "D4EpAzljtl4g",
        "outputId": "e9e0f1ae-3c51-4d21-feec-a6d7e7e50715"
      },
      "execution_count": null,
      "outputs": [
        {
          "output_type": "stream",
          "name": "stdout",
          "text": [
            "enter stringlokesh\n",
            "oe\n",
            "2\n"
          ]
        }
      ]
    }
  ]
}