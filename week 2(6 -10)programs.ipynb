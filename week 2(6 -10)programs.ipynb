{
  "cells": [
    {
      "cell_type": "markdown",
      "metadata": {
        "id": "view-in-github",
        "colab_type": "text"
      },
      "source": [
        "<a href=\"https://colab.research.google.com/github/lokesh238g6/pythonlab/blob/main/week%202(6%20-10)programs.ipynb\" target=\"_parent\"><img src=\"https://colab.research.google.com/assets/colab-badge.svg\" alt=\"Open In Colab\"/></a>"
      ]
    },
    {
      "cell_type": "code",
      "source": [
        "age=int(input(\"enter age:\"))\n",
        "if(age>=18):\n",
        "  print(\"congratulations! you are eligible for casting your vote\")\n",
        "else:\n",
        "  print(\"sorry! you are not eligible to vote\")"
      ],
      "metadata": {
        "colab": {
          "base_uri": "https://localhost:8080/"
        },
        "id": "01GtFsDnYCn-",
        "outputId": "6fbbbb79-fd5e-4771-e8d8-6c306ec5075f"
      },
      "execution_count": null,
      "outputs": [
        {
          "output_type": "stream",
          "name": "stdout",
          "text": [
            "enter age:21\n",
            "congratulations! you are eligible for casting your vote\n"
          ]
        }
      ]
    },
    {
      "cell_type": "code",
      "source": [
        "\"\"\"write a program to read the value of an integer m and diaplay the value of n is 1 when m is larger than 0,0 when m is equal to 0 and -1 when m is less than 0\"\"\"\n",
        "m=int(input(\"enter value:\"))\n",
        "if(m>0):\n",
        "  print(\"The value of n=1\")\n",
        "elif(m==0):\n",
        "  print(\"The value of n=0\")\n",
        "else:\n",
        "  print(\"The value of n=-1\")\n",
        "\n"
      ],
      "metadata": {
        "colab": {
          "base_uri": "https://localhost:8080/"
        },
        "id": "hS9ueQJYZPA2",
        "outputId": "b36b8c1d-2079-45bf-f87c-5e334b030f9c"
      },
      "execution_count": null,
      "outputs": [
        {
          "output_type": "stream",
          "name": "stdout",
          "text": [
            "enter value:-5\n",
            "The value of n=-1\n"
          ]
        }
      ]
    },
    {
      "cell_type": "code",
      "source": [
        "\"\"\"write a program to accept a coordinate point in xy coordinate system and determine in which quadrant the coordinate point lies\"\"\"\n",
        "x=int(input(\"enter value of x:\"))\n",
        "y=int(input(\"enter value of y:\"))\n",
        "if(x>0 and y>0):\n",
        "  print(f\" The coordinate points {x,y} lies in the first quadrant\")\n",
        "elif(x<0 and y>0):\n",
        "  print(f\" The coordinate points {x,y} lies in the second quadrant\")\n",
        "elif(x<0 and y<0):\n",
        "  print(f\" The coordinate points {x,y} lies in the third quadrant\")\n",
        "else:\n",
        "  print(f\" The coordinate points {x,y} lies in the fourth quadrant\")"
      ],
      "metadata": {
        "colab": {
          "base_uri": "https://localhost:8080/"
        },
        "id": "i5HsocNxaepS",
        "outputId": "278256ff-c9ef-41f4-d94e-8fa6421d244b"
      },
      "execution_count": null,
      "outputs": [
        {
          "output_type": "stream",
          "name": "stdout",
          "text": [
            "enter value of x:7\n",
            "enter value of y:9\n",
            " The coordinate points (7, 9) lies in the first quadrant\n"
          ]
        }
      ]
    },
    {
      "cell_type": "code",
      "source": [
        "temp=int(input(\"enter temperature in centigrade\"))\n",
        "if(temp<0):\n",
        "  print(\"freezing weather\")\n",
        "elif(temp>=0 and temp<=10):\n",
        "  print(\"very cold weather\")\n",
        "elif(temp>=10 and temp<=20):\n",
        "  print(\"cold weather\")\n",
        "elif(temp>=20 and temp<=30):\n",
        "  print(\"normal in temperature\")\n",
        "elif(temp>=30 and temp<=40):\n",
        "  print(\"its hot\")\n",
        "else:\n",
        "  print(\"it's very hot\")"
      ],
      "metadata": {
        "colab": {
          "base_uri": "https://localhost:8080/"
        },
        "id": "tqFYrFs-fsO9",
        "outputId": "b2a3ae6a-e031-4dd3-96a5-71eaf23163df"
      },
      "execution_count": null,
      "outputs": [
        {
          "output_type": "stream",
          "name": "stdout",
          "text": [
            "enter temperature in centigrade42\n",
            "it's very hot\n"
          ]
        }
      ]
    },
    {
      "cell_type": "code",
      "source": [
        "\"\"\"write a program to check whether a traingle can be formed with the given values for the angles\"\"\"\n",
        "a=int(input(\"enter value of a:\"))\n",
        "b=int(input(\"enter value of b:\"))\n",
        "c=int(input(\"enter value of c:\"))\n",
        "if(a+b+c==180):\n",
        "  print(\"The triangle can be formed\")\n",
        "else:\n",
        "  print(\"The triangle is not valid\")\n"
      ],
      "metadata": {
        "colab": {
          "base_uri": "https://localhost:8080/"
        },
        "id": "Hnevi6EonRCn",
        "outputId": "35df17d6-7816-4478-be85-fd9685920e96"
      },
      "execution_count": null,
      "outputs": [
        {
          "output_type": "stream",
          "name": "stdout",
          "text": [
            "enter value of a:40\n",
            "enter value of b:55\n",
            "enter value of c:65\n",
            "The triangle is not valid\n"
          ]
        }
      ]
    }
  ],
  "metadata": {
    "colab": {
      "provenance": [],
      "include_colab_link": true
    },
    "kernelspec": {
      "display_name": "Python 3",
      "name": "python3"
    }
  },
  "nbformat": 4,
  "nbformat_minor": 0
}