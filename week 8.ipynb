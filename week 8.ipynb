{
  "nbformat": 4,
  "nbformat_minor": 0,
  "metadata": {
    "colab": {
      "provenance": [],
      "authorship_tag": "ABX9TyMlQnScCMoeKrozw619Bbzi",
      "include_colab_link": true
    },
    "kernelspec": {
      "name": "python3",
      "display_name": "Python 3"
    },
    "language_info": {
      "name": "python"
    }
  },
  "cells": [
    {
      "cell_type": "markdown",
      "metadata": {
        "id": "view-in-github",
        "colab_type": "text"
      },
      "source": [
        "<a href=\"https://colab.research.google.com/github/lokesh238g6/pythonlab/blob/main/week%208.ipynb\" target=\"_parent\"><img src=\"https://colab.research.google.com/assets/colab-badge.svg\" alt=\"Open In Colab\"/></a>"
      ]
    },
    {
      "cell_type": "code",
      "execution_count": 9,
      "metadata": {
        "colab": {
          "base_uri": "https://localhost:8080/"
        },
        "id": "9BsRhGahgztL",
        "outputId": "ff4c4ca9-c3ce-4983-fcf4-45caa754ad1e"
      },
      "outputs": [
        {
          "output_type": "stream",
          "name": "stdout",
          "text": [
            "enter hours:3\n",
            "enter minutes:56\n",
            "236\n"
          ]
        }
      ],
      "source": [
        "\"\"\"1.\tWrite a program to convert time into minutes\"\"\"\n",
        "def a(hours, minutes):\n",
        "    return hours * 60 + minutes\n",
        "q=int(input(\"enter hours:\"))\n",
        "b=int(input(\"enter minutes:\"))\n",
        "print(a(q,b))\n",
        "\n",
        ""
      ]
    },
    {
      "cell_type": "code",
      "source": [
        "\t\"\"\"Write a program to calculate simple interest .suppose the customer is a senior  citizen.he is being offered 12 per cent  rate of interest;for all other customers, the rate of interest is 10 per cent.\"\"\"\n",
        "def simple_interest(a,b,c):\n",
        "  if(c>=60):\n",
        "    d=a*b*12/100\n",
        "    return d\n",
        "  else:\n",
        "    d=a*b*10/100\n",
        "    return d\n",
        "\n",
        "a=int(input(\"enter principal amount:\"))\n",
        "b=int(input(\"enter no of years:\"))\n",
        "c=int(input(\"enter age:\"))\n",
        "print(simple_interest(a,b,c))\n",
        "\n"
      ],
      "metadata": {
        "colab": {
          "base_uri": "https://localhost:8080/"
        },
        "id": "ryB7GKDgjQmK",
        "outputId": "637a0b88-3b42-4903-d01a-064bdefc09ac"
      },
      "execution_count": 16,
      "outputs": [
        {
          "output_type": "stream",
          "name": "stdout",
          "text": [
            "enter principal amount:2333\n",
            "enter no of years:3\n",
            "enter age:20\n",
            "699.9\n"
          ]
        }
      ]
    },
    {
      "cell_type": "code",
      "source": [
        "\"\"\"3.\tWrite Python program to find the sum of sine series\n",
        "Prerequisite: math\n",
        "Given n and x, where n is the number of terms in the series and x is the value of the angle in degree.\n",
        "Program to calculate the value of cosine of x using series expansion formula and compare the value with the library function’s output.\n",
        "Formula Used :\n",
        "cos x = 1 – (x2 / 2 !) + (x4 / 4 !) – (x6 / 6 !) +…\n",
        "Examples :\n",
        "Input : n = 3\n",
        "        x = 90\n",
        "Output : Sum of the cosine series is =  -0.23\n",
        "The value using library function is = -0.000204\n",
        "\n",
        "Input : n = 4\n",
        "        x = 45\n",
        "Output :\n",
        "Sum of the cosine series is = 0.71\n",
        "The value using library function is = 0.707035\"\"\"\n",
        "import math\n",
        "\n",
        "def sine_series(n, x):\n",
        "    sum = 0\n",
        "    for i in range(n):\n",
        "        term = (x ** (2 * i + 1)) / math.factorial(2 * i + 1)\n",
        "        if i % 2 == 0:\n",
        "            sum += term\n",
        "        else:\n",
        "            sum -= term\n",
        "    return sum\n",
        "\n",
        "# Input values\n",
        "n = int(input(\"Enter the number of terms in the series: \"))\n",
        "x = float(input(\"Enter the value of x in degrees: \"))\n",
        "l=(math.pi)/180\n",
        "x=x*l\n",
        "# Calculate the value of cosine using the sine series\n",
        "result = sine_series(n, x)\n",
        "print(result)\n",
        "print(l)\n",
        "\n",
        "\n",
        "\n",
        "\n"
      ],
      "metadata": {
        "colab": {
          "base_uri": "https://localhost:8080/"
        },
        "id": "G1zM9adkogBi",
        "outputId": "f22fe1cf-6f8d-4ab5-a651-17f2a2655a38"
      },
      "execution_count": 40,
      "outputs": [
        {
          "output_type": "stream",
          "name": "stdout",
          "text": [
            "Enter the number of terms in the series: 3\n",
            "Enter the value of x in degrees: 90\n",
            "1.0045248555348174\n",
            "0.017453292519943295\n"
          ]
        }
      ]
    },
    {
      "cell_type": "code",
      "source": [
        "\"\"\"5.\tWrite a program to calculate GCD using Recursive functions\"\"\"\n",
        "a=int(input(\"enter the value for a\"))\n",
        "b=int(input(\"enter the value for b\"))\n",
        "def gcd(a,b):\n",
        "  if b==0:\n",
        "    return a\n",
        "  else:\n",
        "    return gcd(b,a%b)\n",
        "print(gcd(a,b))\n"
      ],
      "metadata": {
        "colab": {
          "base_uri": "https://localhost:8080/"
        },
        "id": "uYOnHXPRyFwL",
        "outputId": "6c4fc678-c4e6-4a0b-a2e5-fd94f978e5d7"
      },
      "execution_count": 45,
      "outputs": [
        {
          "output_type": "stream",
          "name": "stdout",
          "text": [
            "enter the value for a26\n",
            "enter the value for b32\n",
            "2\n"
          ]
        }
      ]
    },
    {
      "cell_type": "code",
      "source": [
        "\"\"\"6.\tWrite a program to print the Fibonacci series using recursion.\"\"\"\n",
        "def fibo(n):\n",
        "  if n==0:\n",
        "    return 0\n",
        "  elif n==1:\n",
        "    return 1\n",
        "  else:\n",
        "    return fibo(n-1)+fibo(n-2)\n",
        "\n",
        "n=int(input(\"enter the value of n\"))\n",
        "for i in range(n):\n",
        "  print(fibo(i))"
      ],
      "metadata": {
        "colab": {
          "base_uri": "https://localhost:8080/"
        },
        "id": "wTO46NB53gzD",
        "outputId": "f7fbf154-2af7-4d17-e057-1c0eb0ca5b6d"
      },
      "execution_count": 46,
      "outputs": [
        {
          "output_type": "stream",
          "name": "stdout",
          "text": [
            "enter the value of n5\n",
            "0\n",
            "1\n",
            "1\n",
            "2\n",
            "3\n"
          ]
        }
      ]
    },
    {
      "cell_type": "code",
      "source": [
        "\"\"\"7.\tPython program to calculate exp(x,y)  using recursion functions.\"\"\"\n",
        "def exp(x,y):\n",
        "  if y==0:\n",
        "    return 1\n",
        "  else:\n",
        "    return x*exp(x,y-1)\n",
        "\n",
        "x=int(input(\"enter the value of x\"))\n",
        "y=int(input(\"enter the value of y\"))\n",
        "print(exp(x,y))"
      ],
      "metadata": {
        "colab": {
          "base_uri": "https://localhost:8080/"
        },
        "id": "qOPuA24V42Pb",
        "outputId": "1da5e041-d7f3-485c-9f67-363ca3b278e3"
      },
      "execution_count": 47,
      "outputs": [
        {
          "output_type": "stream",
          "name": "stdout",
          "text": [
            "enter the value of x2\n",
            "enter the value of y5\n",
            "32\n"
          ]
        }
      ]
    },
    {
      "cell_type": "code",
      "source": [
        "def prime(n):\n",
        "  if (n==1):\n",
        "    return False\n",
        "  for i in range(2,n):\n",
        "    if (n%i==0):\n",
        "      return False\n",
        "  return True\n",
        "\n",
        "n=int(input(\"enter n value\"))\n",
        "a=prime(n)\n",
        "print(a)\n"
      ],
      "metadata": {
        "colab": {
          "base_uri": "https://localhost:8080/"
        },
        "id": "DxmerVDx8lCz",
        "outputId": "e6d2dd76-07d7-49c3-b12f-94eca967dfc3"
      },
      "execution_count": 48,
      "outputs": [
        {
          "output_type": "stream",
          "name": "stdout",
          "text": [
            "enter n value5\n",
            "True\n"
          ]
        }
      ]
    }
  ]
}