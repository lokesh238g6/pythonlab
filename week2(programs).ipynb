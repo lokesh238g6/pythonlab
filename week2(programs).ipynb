{
  "nbformat": 4,
  "nbformat_minor": 0,
  "metadata": {
    "colab": {
      "provenance": [],
      "authorship_tag": "ABX9TyMDpkU/Kv4P6eL6Mw6G5lzc",
      "include_colab_link": true
    },
    "kernelspec": {
      "name": "python3",
      "display_name": "Python 3"
    },
    "language_info": {
      "name": "python"
    }
  },
  "cells": [
    {
      "cell_type": "markdown",
      "metadata": {
        "id": "view-in-github",
        "colab_type": "text"
      },
      "source": [
        "<a href=\"https://colab.research.google.com/github/lokesh238g6/pythonlab/blob/main/week2(programs).ipynb\" target=\"_parent\"><img src=\"https://colab.research.google.com/assets/colab-badge.svg\" alt=\"Open In Colab\"/></a>"
      ]
    },
    {
      "cell_type": "code",
      "source": [
        "\"\"\"Accept three values from a user : num1, num2, and num3.\n",
        "Return the largest of these three numbers.\"\"\"\n",
        "a=int(input(\"Enter first number : \"))\n",
        "b=int(input(\"Enter second number : \"))\n",
        "c=int(input(\"Enter third number : \"))\n",
        "if a>b and a>c:\n",
        "    print(a,\"is largest\")\n",
        "elif b>a and b>c:\n",
        "    print(b,\"is largest\")\n",
        "else:\n",
        "    print(c,\"is largest\")\n",
        "\n"
      ],
      "metadata": {
        "colab": {
          "base_uri": "https://localhost:8080/"
        },
        "id": "x1Ugl96kn0QZ",
        "outputId": "6f22e4a7-f1ca-48e0-9d1b-91e2dd260025"
      },
      "execution_count": 3,
      "outputs": [
        {
          "output_type": "stream",
          "name": "stdout",
          "text": [
            "Enter first number : 2\n",
            "Enter second number : 3\n",
            "Enter third number : 6\n",
            "6 is largest\n"
          ]
        }
      ]
    },
    {
      "cell_type": "code",
      "source": [
        "#Write a program to accept two integers and check whether they are equal or not.\n",
        "\n",
        "#Test Data : 15 15\n",
        "#Expected Output :\n",
        "#Number1 and Number2 are equal\n",
        "a=int(input(\"Enter first number : \"))\n",
        "b=int(input(\"Enter second number : \"))\n",
        "if a==b:\n",
        "    print(\"Number1 and Number2 are equal\")\n",
        "else:\n",
        "    print(\"Number1 and Number2 are not equal\")\n",
        "\n"
      ],
      "metadata": {
        "colab": {
          "base_uri": "https://localhost:8080/"
        },
        "id": "wUTp4G35oPJI",
        "outputId": "5d164668-0869-40a2-ac1d-8f6e8ffde8d3"
      },
      "execution_count": 4,
      "outputs": [
        {
          "output_type": "stream",
          "name": "stdout",
          "text": [
            "Enter first number : 23\n",
            "Enter second number : 32\n",
            "Number1 and Number2 are not equal\n"
          ]
        }
      ]
    },
    {
      "cell_type": "code",
      "source": [
        "\"\"\"Write a program to check whether a given number is even or odd.\n",
        "\n",
        "Test Data : 15\n",
        "Expected Output :\n",
        "15 is an odd integer\"\"\"\n",
        "a=int(input(\"Enter a number : \"))\n",
        "if a%2==0:\n",
        "    print(a,\"is an even integer\")\n",
        "elif a%2!=0:\n",
        "    print(a,\"is an odd integer\")\n",
        "else:\n",
        "    print(a,\"is an odd integer\")\n"
      ],
      "metadata": {
        "colab": {
          "base_uri": "https://localhost:8080/"
        },
        "id": "v8_SByQqqGBu",
        "outputId": "ee2f0a36-be06-42ad-c89f-2cabec270397"
      },
      "execution_count": 7,
      "outputs": [
        {
          "output_type": "stream",
          "name": "stdout",
          "text": [
            "Enter a number : 15\n",
            "15 is an odd integer\n"
          ]
        }
      ]
    },
    {
      "cell_type": "code",
      "source": [
        "\"\"\"Write a program to check whether a given number is positive or negative or Zero.\n",
        "\n",
        "Test Data : 15\n",
        "Expected Output :\n",
        "15 is a positive number\"\"\"\n",
        "a=int(input(\"Enter a number : \"))\n",
        "if a>0:\n",
        "    print(a,\"is a positive number\")\n",
        "elif a<0:\n",
        "    print(a,\"is a negative number\")\n",
        "else:\n",
        "    print(a,\"is zero\")\n"
      ],
      "metadata": {
        "colab": {
          "base_uri": "https://localhost:8080/"
        },
        "id": "R02ljjh5qrWm",
        "outputId": "5619f7ca-3a83-4b06-f950-a82bd6d32824"
      },
      "execution_count": 8,
      "outputs": [
        {
          "output_type": "stream",
          "name": "stdout",
          "text": [
            "Enter a number : 15\n",
            "15 is a positive number\n"
          ]
        }
      ]
    },
    {
      "cell_type": "code",
      "source": [
        "\"\"\"Write a  program to find whether a given year is a leap year or not.\n",
        "\n",
        "Test Data : 2016\n",
        "Expected Output :\n",
        "2016 is a leap year\"\"\"\n",
        "a=int(input(\"Enter a year : \"))\n",
        "if a%4==0:\n",
        "    print(a,\"is a leap year\")\n",
        "    if a%100==0:\n",
        "        print(a,\"is not a leap year\")\n",
        "        if a%400==0:\n",
        "            print(a,\"is a leap year\")\n",
        "        else:\n",
        "            print(a,\"is not a leap year\")\n",
        "    else:\n",
        "        print(a,\"is a leap year\")\n",
        "else:\n",
        "    print(a,\"is not a leap year\")\n"
      ],
      "metadata": {
        "colab": {
          "base_uri": "https://localhost:8080/"
        },
        "id": "mZBcb7xaq_X2",
        "outputId": "4a8a9d41-c4b5-45af-e872-33602cea9a36"
      },
      "execution_count": 9,
      "outputs": [
        {
          "output_type": "stream",
          "name": "stdout",
          "text": [
            "Enter a year : 2016\n",
            "2016 is a leap year\n",
            "2016 is a leap year\n"
          ]
        }
      ]
    },
    {
      "cell_type": "code",
      "source": [
        "\"\"\"Write a program to read the age of a candidate and determine whether he is eligible to cast his/her own vote.\n",
        "\n",
        "Test Data : 21\n",
        "Expected Output :\n",
        "Congratulations! You are eligible for casting your vote\"\"\"\n",
        "a=int(input(\"Enter your age : \"))\n",
        "if a>=18:\n",
        "    print(\"Congratulations! You are eligible for casting your vote\")\n",
        "else:\n",
        "    print(\"Sorry! You are not eligible for casting your vote\")\n"
      ],
      "metadata": {
        "colab": {
          "base_uri": "https://localhost:8080/"
        },
        "id": "N36Rx8Ngr2k2",
        "outputId": "596339c6-7eb5-4779-be3b-a5d59b482e41"
      },
      "execution_count": 10,
      "outputs": [
        {
          "output_type": "stream",
          "name": "stdout",
          "text": [
            "Enter your age : 21\n",
            "Congratulations! You are eligible for casting your vote\n"
          ]
        }
      ]
    }
  ]
}