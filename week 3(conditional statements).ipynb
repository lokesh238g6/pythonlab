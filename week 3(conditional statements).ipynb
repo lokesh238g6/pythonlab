{
  "nbformat": 4,
  "nbformat_minor": 0,
  "metadata": {
    "colab": {
      "provenance": [],
      "authorship_tag": "ABX9TyO2Mi+0TxVU6d1P/Gc8udA5",
      "include_colab_link": true
    },
    "kernelspec": {
      "name": "python3",
      "display_name": "Python 3"
    },
    "language_info": {
      "name": "python"
    }
  },
  "cells": [
    {
      "cell_type": "markdown",
      "metadata": {
        "id": "view-in-github",
        "colab_type": "text"
      },
      "source": [
        "<a href=\"https://colab.research.google.com/github/lokesh238g6/pythonlab/blob/main/week%203(conditional%20statements).ipynb\" target=\"_parent\"><img src=\"https://colab.research.google.com/assets/colab-badge.svg\" alt=\"Open In Colab\"/></a>"
      ]
    },
    {
      "cell_type": "code",
      "execution_count": 4,
      "metadata": {
        "colab": {
          "base_uri": "https://localhost:8080/"
        },
        "id": "5a7MYJvoPus1",
        "outputId": "c5eca136-1c27-478e-f22e-7a6e01f91798"
      },
      "outputs": [
        {
          "output_type": "stream",
          "name": "stdout",
          "text": [
            "Enter a year : 2017\n",
            "2017 is not a leap year\n"
          ]
        }
      ],
      "source": [
        "\n",
        "\"\"\"\tExercise 1: Write a Python program to check if a given year is a leap year\"\"\"\n",
        "a=int(input(\"Enter a year : \"))\n",
        "if a%4==0:\n",
        "    print(a,\"is a leap year\")\n",
        "    if a%100==0:\n",
        "        print(a,\"is not a leap year\")\n",
        "        if a%400==0:\n",
        "            print(a,\"is a leap year\")\n",
        "        else:\n",
        "            print(a,\"is not a leap year\")\n",
        "    else:\n",
        "        print(a,\"is a leap year\")\n",
        "else:\n",
        "    print(a,\"is not a leap year\")\n",
        "\n",
        "\n"
      ]
    },
    {
      "cell_type": "code",
      "source": [
        "\"\"\"Exercise 2: Write a Python program to classify a person's body mass index (BMI).\"\"\"\n",
        "weight=float(input(\"Enter your weight in kg : \"))\n",
        "height=float(input(\"Enter your height in cm: \"))\n",
        "height_m=height/100\n",
        "bmi=weight/(height_m**2)\n",
        "print(\"Your BMI is : \",bmi)\n",
        "if bmi<18.5:\n",
        "    print(\"You are underweight\")\n",
        "elif bmi>=18.5 and bmi<=24.9:\n",
        "    print(\"You are normal\")\n",
        "    if bmi>=25 and bmi<=29.9:\n",
        "        print(\"You are overweight\")\n",
        "else:\n",
        "    print(\"You are obese\")\n"
      ],
      "metadata": {
        "colab": {
          "base_uri": "https://localhost:8080/"
        },
        "id": "03Es7fyDUwLK",
        "outputId": "3338d75e-e2ae-4625-c517-3eb1b712b656"
      },
      "execution_count": 14,
      "outputs": [
        {
          "output_type": "stream",
          "name": "stdout",
          "text": [
            "Enter your weight in kg : 80\n",
            "Enter your height in cm: 171\n",
            "Your BMI is :  27.358845456721728\n",
            "You are obese\n"
          ]
        }
      ]
    },
    {
      "cell_type": "code",
      "source": [
        "\"\"\"Write a Python program that takes three numbers from the user and calculate biggest of three numbers\"\"\"\n",
        "a=int(input(\"Enter first number:\"))\n",
        "b=int(input(\"Enter second number:\"))\n",
        "c=int(input(\"Enter third number:\"))\n",
        "if a>b and a>c:\n",
        "    print(\"Biggest number is:\",a)\n",
        "elif b>a and b>c:\n",
        "    print(\"Biggest number is:\",b)\n",
        "else:\n",
        "    print(\"Biggest number is:\",c)\n",
        ""
      ],
      "metadata": {
        "colab": {
          "base_uri": "https://localhost:8080/"
        },
        "id": "h_v2Y-_RXDNC",
        "outputId": "8ca0907a-00a6-4344-f928-8a2d5f1d5aa6"
      },
      "execution_count": 16,
      "outputs": [
        {
          "output_type": "stream",
          "name": "stdout",
          "text": [
            "Enter first number:87\n",
            "Enter second number:76\n",
            "Enter third number:76\n",
            "Biggest number is: 87\n"
          ]
        }
      ]
    },
    {
      "cell_type": "code",
      "source": [
        "\"\"\"Exercise4 :Write a program to enter any character. if the entered character is in lowercase then convert it into uppercase and if it is an uppercase character, then convert it into lowercase\"\"\"\n",
        "a=str(input(\"enter a character\\n\"))\n",
        "if a.islower():\n",
        "    print(a.upper())\n",
        "else:\n",
        "    print(a.lower())\n"
      ],
      "metadata": {
        "colab": {
          "base_uri": "https://localhost:8080/"
        },
        "id": "OasMUu1BXOCB",
        "outputId": "ca92a5f0-9866-4297-dd05-af0ece3adfa8"
      },
      "execution_count": 25,
      "outputs": [
        {
          "output_type": "stream",
          "name": "stdout",
          "text": [
            "enter a character\n",
            "l\n",
            "L\n"
          ]
        }
      ]
    },
    {
      "cell_type": "code",
      "source": [
        "\"\"\"Exercise 5:A company decides to give bonus to all its employees on Diwali. A 5% bonus on salary is given to the male workers and 10% bonus on salary is given to the female workers. Write a program to enter the salary of the employee and gender of the employee. if the salary of the employee is less than Rs.10000 then the employee gets an extra 2%bonus on salary. calculate the bonus that has to be given to the employee and display the salary that the employee will get.\"\"\"\n",
        "a=float(input(\"enter salary\\n\"))\n",
        "b=str(input(\"enter gender\\n\"))\n",
        "if a<10000:\n",
        "    if b==\"male\":\n",
        "        print(a+a*0.05+a*0.02)\n",
        "    elif b==\"female\":\n",
        "        print(a+a*0.1+a*0.02)\n",
        "\n",
        "else:\n",
        "    if b==\"male\":\n",
        "        print(a+a*0.05)\n",
        "    elif b==\"female\":\n",
        "        print(a+a*0.1)\n",
        "\n",
        ""
      ],
      "metadata": {
        "colab": {
          "base_uri": "https://localhost:8080/"
        },
        "id": "ISFSk2SbZQWS",
        "outputId": "4c859fcd-4ed7-4177-940c-8aadeaaabd32"
      },
      "execution_count": 26,
      "outputs": [
        {
          "output_type": "stream",
          "name": "stdout",
          "text": [
            "enter salary\n",
            "100000\n",
            "enter gender\n",
            "male\n",
            "105000.0\n"
          ]
        }
      ]
    },
    {
      "cell_type": "code",
      "source": [
        "\"\"\"\tExercise 6:Write a Programme to calculate tax, given the following Conditions:\n",
        "-If income is less than 150,000, then no tax\n",
        "-If income in the range of 150,001-300,000, then charge 10% tax\n",
        "-If income is in the range of 300,001-500,000, then charge tax of 20%\n",
        "-If income is above 500,001, then charge tax of 30%\"\"\"\n",
        "a=int(input(\"Enter your income\\n\"))\n",
        "tax=0\n",
        "if a<150000:\n",
        "    print(\"No tax\")\n",
        "elif a>=150001 and a<=300000:\n",
        "    tax=a*0.1\n",
        "    print(tax)\n",
        "elif a>=300001 and a<=500000:\n",
        "    tax=a*0.2\n",
        "    print(tax)\n",
        "else:\n",
        "    tax=a*0.3\n",
        "    print(tax)\n",
        ""
      ],
      "metadata": {
        "colab": {
          "base_uri": "https://localhost:8080/"
        },
        "id": "-rGbpJL-chhh",
        "outputId": "025f01f5-b54e-4e71-ae05-3ffcf9eca939"
      },
      "execution_count": 30,
      "outputs": [
        {
          "output_type": "stream",
          "name": "stdout",
          "text": [
            "Enter your income\n",
            "500000\n",
            "100000.0\n"
          ]
        }
      ]
    },
    {
      "cell_type": "code",
      "source": [
        "\"\"\"Exercise 7:Write a C program to input marks of five subjects Physics, Chemistry, Biology, Mathematics and Computer, calculate percentage and grade according to given conditions:\n",
        "If percentage >= 90% : Grade A\n",
        "If percentage >= 80% : Grade B\n",
        "If percentage >= 70% : Grade C\n",
        "If percentage >= 60% : Grade D\n",
        "If percentage >= 40% : Grade E\n",
        "If percentage < 40% : Grade F\"\"\"\n",
        "a=int(input(\"enter marks in physics :\"))\n",
        "b=int(input(\"enter marks in chemistry :\"))\n",
        "c=int(input(\"enter marks in biology :\"))\n",
        "d=int(input(\"enter marksn in mathematics :\"))\n",
        "e=int(input(\"enteer marks in computer :\"))\n",
        "total=a+b+c+d+e\n",
        "print(total)\n",
        "per=(total/500)*100\n",
        "print(per)\n",
        "if per>=90 :\n",
        "      print(\"Grade A\")\n",
        "elif per>=80:\n",
        "      print(\"Grade B\")\n",
        "elif per>=70:\n",
        "      print(\"Grade c\")\n",
        "elif per>=60:\n",
        "      print(\"Grade D\")\n",
        "elif per>=40:\n",
        "      print(\"Grade E\")\n",
        "else :\n",
        "      print(\"Grade F\")\n",
        "\n",
        "\n",
        "\n",
        "\n",
        "\n",
        "\n",
        "\n"
      ],
      "metadata": {
        "colab": {
          "base_uri": "https://localhost:8080/"
        },
        "id": "O79adHQodvrZ",
        "outputId": "4b5f4e0d-2dff-4cf7-e750-3c8b79c3709b"
      },
      "execution_count": 41,
      "outputs": [
        {
          "output_type": "stream",
          "name": "stdout",
          "text": [
            "enter marks in physics :99\n",
            "enter marks in chemistry :99\n",
            "enter marks in biology :85\n",
            "enter marksn in mathematics :75\n",
            "enteer marks in computer :89\n",
            "447\n",
            "89.4\n",
            "Grade B\n"
          ]
        }
      ]
    },
    {
      "cell_type": "code",
      "source": [
        "\"\"\"\tExercise 8 :write a program to calculate roots of a quadratic equation\"\"\"\n",
        "a=int(input(\"enter the value of a\"))\n",
        "b=int(input(\"enter the value of b\"))\n",
        "c=int(input(\"enter the value of c\"))\n",
        "roots=-b+((b**2)-(4*a*c))**0.5/2*a\n",
        "print(roots)\n",
        "roots=-b-((b**2)-(4*a*c))**0.5/2*a\n",
        "print(roots)\n"
      ],
      "metadata": {
        "colab": {
          "base_uri": "https://localhost:8080/"
        },
        "id": "w-GwLiGXr0he",
        "outputId": "f9849047-1a39-4942-bfc2-d20ebae97c6d"
      },
      "execution_count": 45,
      "outputs": [
        {
          "output_type": "stream",
          "name": "stdout",
          "text": [
            "enter the value of a4\n",
            "enter the value of b4\n",
            "enter the value of c5\n",
            "(-3.999999999999999+16j)\n",
            "(-4.000000000000001-16j)\n"
          ]
        }
      ]
    }
  ]
}