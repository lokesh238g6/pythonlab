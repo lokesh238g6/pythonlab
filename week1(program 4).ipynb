{
  "nbformat": 4,
  "nbformat_minor": 0,
  "metadata": {
    "colab": {
      "provenance": [],
      "authorship_tag": "ABX9TyMWxAqGUh8ION42svnQS+hp",
      "include_colab_link": true
    },
    "kernelspec": {
      "name": "python3",
      "display_name": "Python 3"
    },
    "language_info": {
      "name": "python"
    }
  },
  "cells": [
    {
      "cell_type": "markdown",
      "metadata": {
        "id": "view-in-github",
        "colab_type": "text"
      },
      "source": [
        "<a href=\"https://colab.research.google.com/github/lokesh238g6/pythonlab/blob/main/week1(program%204).ipynb\" target=\"_parent\"><img src=\"https://colab.research.google.com/assets/colab-badge.svg\" alt=\"Open In Colab\"/></a>"
      ]
    },
    {
      "cell_type": "code",
      "source": [
        "\"\"\"Program4: Write a program to calculate area of triangle using Heron’s formula.\n",
        "(Hint:Heron’s formula is given as:Area = Square root of√s(s - a)(s - b)(s - c))\"\"\"\n",
        "a=int(input(\"enter a value\"))\n",
        "b=int(input(\"enter b value\"))\n",
        "c=int(input(\"enter c value\"))\n",
        "s=(a+b+c)/2\n",
        "area=(s*(s-a)*(s-b)*(s-c))**0.5\n",
        "print(\"area is\",area)\n"
      ],
      "metadata": {
        "colab": {
          "base_uri": "https://localhost:8080/"
        },
        "id": "oSYE3TQEmV_x",
        "outputId": "feda5c4a-4738-4c3e-9a42-c0a56ff518dc"
      },
      "execution_count": 2,
      "outputs": [
        {
          "output_type": "stream",
          "name": "stdout",
          "text": [
            "enter a value3\n",
            "enter b value4\n",
            "enter c value2\n",
            "area is 2.9047375096555625\n"
          ]
        }
      ]
    }
  ]
}